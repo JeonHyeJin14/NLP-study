{
 "cells": [
  {
   "cell_type": "code",
   "id": "initial_id",
   "metadata": {
    "collapsed": true,
    "ExecuteTime": {
     "end_time": "2025-09-29T07:03:15.276972Z",
     "start_time": "2025-09-29T07:03:14.730782Z"
    }
   },
   "source": "import pandas as pd",
   "outputs": [],
   "execution_count": 1
  },
  {
   "metadata": {
    "ExecuteTime": {
     "end_time": "2025-09-29T07:03:16.024320Z",
     "start_time": "2025-09-29T07:03:15.371337Z"
    }
   },
   "cell_type": "code",
   "source": [
    "# NSMC 데이터\n",
    "\n",
    "train = pd.read_table('nsmc_ratings_train.txt')\n",
    "test = pd.read_table('nsmc_ratings_test.txt')"
   ],
   "id": "2a8d7d8ec5b79824",
   "outputs": [],
   "execution_count": 2
  },
  {
   "metadata": {
    "ExecuteTime": {
     "end_time": "2025-09-29T07:03:16.063515Z",
     "start_time": "2025-09-29T07:03:16.045065Z"
    }
   },
   "cell_type": "code",
   "source": [
    "# 기본 정보\n",
    "print(train.shape, test.shape)\n",
    "print(train.isna().sum())       # 결측치 확인\n",
    "print(train.head(3))"
   ],
   "id": "13dfd365c68dcd4",
   "outputs": [
    {
     "name": "stdout",
     "output_type": "stream",
     "text": [
      "(150000, 3) (50000, 3)\n",
      "id          0\n",
      "document    5\n",
      "label       0\n",
      "dtype: int64\n",
      "         id                           document  label\n",
      "0   9976970                아 더빙.. 진짜 짜증나네요 목소리      0\n",
      "1   3819312  흠...포스터보고 초딩영화줄....오버연기조차 가볍지 않구나      1\n",
      "2  10265843                  너무재밓었다그래서보는것을추천한다      0\n"
     ]
    }
   ],
   "execution_count": 3
  },
  {
   "metadata": {},
   "cell_type": "markdown",
   "source": [
    "## 함수 basic_clean\n",
    "\n",
    "### df = df.copy()\n",
    "- 원본을 건드리지 않고 안전하게 복사본에서 작업\n",
    "- 판다스의 SettingWithCopyWarning(체인 인덱싱 경고)나 원본 데이터 오염 방지\n",
    "\n",
    "### df['document'] = df['document'].astype(str).str.strip()\n",
    "- document 컬럼을 전부 문자열로 변환함\n",
    "- 좌우 공백 제거 (스페이스, 탭, 줄바꿈 등 일반 공백)\n",
    "- 주의할 점\n",
    "    - NaN이 'nan' 문자열로 바뀌는 문제\n",
    "        - 다음 단계에서 길이가 2이므로 빈 문자열 제거로는 걸러지지 않음 = 결측치가 살아남음\n",
    "        - 해결은 결측치 먼저 제거\n",
    "\n",
    "### df = df[df['document'].str.len() > 0]\n",
    "- 빈 문자열인 행 제거\n",
    "- 한계\n",
    "    - 공백만 있는 문자열은 stip()으로 이미 빈 문자열이 되었으니 이 단계에서 제거됨\n",
    "    - 하지만 유니코드 '제로폭 공백'은 남을 수 있음 -> 정규식으로 별도 제거가 필요할 수 있음\n",
    "\n",
    "### df = df.drop_duplicates(subset=[\"document\"])\n",
    "- 완전히 동일한 문장을 가진 중복 샘플 제거\n",
    "- 데이터 누수와 편향 완화, 학습의 중복 정보 감소\n",
    "\n",
    "### df = df[df[\"document\"].str.len() >= 2]\n",
    "- 너무 짧은 텍스트 제거\n",
    "- ㅋ, ㅎ, ㅠ 같이 한 글자만 있는 경우는 모델에 노이즈가 되기 쉽기 때문\n",
    "- 감성 분석에서는 의미 있는 감정 표현을 너무 적극적으로 지우면 성능이 떨어질 수 있음 -> 최소 길이를 2로 잡아서 절충"
   ],
   "id": "dabb5cf712ce229d"
  },
  {
   "metadata": {
    "ExecuteTime": {
     "end_time": "2025-09-29T07:03:16.116015Z",
     "start_time": "2025-09-29T07:03:16.112892Z"
    }
   },
   "cell_type": "code",
   "source": [
    "def basic_clean(df):\n",
    "    df = df.copy()\n",
    "\n",
    "    #1. 결측치, 공백 제거\n",
    "    df['document'] = df['document'].astype(str).str.strip()\n",
    "    df = df[df['document'].str.len() > 0]\n",
    "\n",
    "    # 2. 중복 제거\n",
    "    df = df.drop_duplicates(subset=['document'])\n",
    "\n",
    "    # 3. 너무 짧은 텍스트 제거 (길이 2 미만)\n",
    "    df = df[df['document'].str.len() >= 2]\n",
    "    return df"
   ],
   "id": "dd0e411185d3915a",
   "outputs": [],
   "execution_count": 4
  },
  {
   "metadata": {
    "ExecuteTime": {
     "end_time": "2025-09-29T07:03:16.382814Z",
     "start_time": "2025-09-29T07:03:16.137455Z"
    }
   },
   "cell_type": "code",
   "source": [
    "train = basic_clean(train)\n",
    "test  = basic_clean(test)\n",
    "print(train.shape, test.shape)"
   ],
   "id": "bb02acf616c1fe5f",
   "outputs": [
    {
     "name": "stdout",
     "output_type": "stream",
     "text": [
      "(146082, 3) (49098, 3)\n"
     ]
    }
   ],
   "execution_count": 5
  },
  {
   "metadata": {},
   "cell_type": "markdown",
   "source": [
    "## 한국어 친화 정규화\n",
    "\n",
    "- URL/이메일/숫자/전화번호 → 토큰 치환 (\\<URL>, \\<EMAIL>, \\<NUM>, \\<PHONE>)\n",
    "\n",
    "- HTML 제거\n",
    "\n",
    "- 유니코드 표준화(NFKC): 전각/반각, 호환 글자 정규화\n",
    "\n",
    "- 반복 문자 압축: ㅋㅋㅋㅋ → ㅋㅋ, !!!! → !!, ㅠㅠㅠ → ㅠㅠ\n",
    "\n",
    "- 부정 결합(선택): 안 하다/못 하다 → 안하다/못하다 (부정 의미 보존)\n",
    "\n",
    "- 허용 문자 이외는 공백으로 치환 후 다중 공백을 1칸으로"
   ],
   "id": "3005ed58a68bcabc"
  },
  {
   "metadata": {
    "ExecuteTime": {
     "end_time": "2025-09-29T07:03:16.426739Z",
     "start_time": "2025-09-29T07:03:16.420670Z"
    }
   },
   "cell_type": "code",
   "source": [
    "import re, unicodedata\n",
    "\n",
    "RE_HTML  = re.compile(r\"<.*?>\") #HTML 태그 제거\n",
    "RE_URL   = re.compile(r\"(https?://\\S+|www\\.\\S+)\") #URL 감지\n",
    "RE_EMAIL = re.compile(r\"[A-Za-z0-9._%+-]+@[A-Za-z0-9.-]+\\.[A-Za-z]{2,}\") # 이메일 감지\n",
    "RE_PHONE = re.compile(r\"(?:\\+?\\d{1,3}[-.\\s]?)?(?:\\d{2,4}[-.\\s]?){2,3}\\d{3,4}\") # 전화번호 감지\n",
    "RE_NUM   = re.compile(r\"\\b\\d+(?:[,.]\\d+)?\\b\") # 숫자 감지\n",
    "\n",
    "# ㅋㅋㅋ, ㅎㅎㅎ, ㅠㅠㅠ, ㅜㅜㅜ, !!!, ??, ~~ 등을 2개로 압축\n",
    "RE_REPEAT_FEEL = re.compile(r\"([ㅋㅎㅠㅜ!?~])\\1{1,}\", flags=re.UNICODE) # 반복 감정표현 감지"
   ],
   "id": "8af3371ea168be7c",
   "outputs": [],
   "execution_count": 6
  },
  {
   "metadata": {
    "ExecuteTime": {
     "end_time": "2025-09-29T05:10:42.384923Z",
     "start_time": "2025-09-29T05:10:42.382658Z"
    }
   },
   "cell_type": "markdown",
   "source": "#### 1. 정규화 함수 (정규식 활용)",
   "id": "85864b6bd154e679"
  },
  {
   "metadata": {
    "ExecuteTime": {
     "end_time": "2025-09-29T07:03:16.445343Z",
     "start_time": "2025-09-29T07:03:16.438460Z"
    }
   },
   "cell_type": "code",
   "source": [
    "import re, unicodedata\n",
    "\n",
    "ALLOWED_CHARS = re.compile(r\"[^가-힣ㄱ-ㅎㅏ-ㅣa-zA-Z0-9<>\\s\\.\\,\\!\\?\\:\\;\\'\\\"\\-\\_\\(\\)]\") # 이모지, 특수문자, 외국어 기호 날리기\n",
    "\n",
    "def _compress_feel(s: str) -> str: # def 함수 이름(매개변수:타입) -> 반환타입:\n",
    "    return RE_REPEAT_FEEL.sub(lambda m:m.group(1)*2, s) #\n",
    "#이 정규식은 \"ㅋㅋㅋㅋ\", \"ㅎㅎㅎ\", \"ㅠㅠㅠㅠ\", \"!!!\", \"~~~\" 같은 같은 문자의 반복을 찾음\n",
    "\n",
    "#([ㅋㅎㅠㅜ!?~]) → 반복되는 문자 하나 (m.group(1))\n",
    "\n",
    "#\\1{1,} → 그 문자가 최소 1번 이상 반복\n",
    "\n",
    "#RE_REPEAT_FEEL.sub(lambda m: m.group(1)*2, s)\n",
    "#👉 \"반복이 몇 번이든 무조건 2개만 남기기\""
   ],
   "id": "e27df496cc03e353",
   "outputs": [],
   "execution_count": 7
  },
  {
   "metadata": {
    "ExecuteTime": {
     "end_time": "2025-09-29T07:03:16.461393Z",
     "start_time": "2025-09-29T07:03:16.456218Z"
    }
   },
   "cell_type": "code",
   "source": [
    "# 매우 보수적인 부정 결합: '안 하다' → '안하다' 등\n",
    "RE_NEG = re.compile(r\"\\b(안|못)\\s+(하다|해요|해서|하면|했다|해|할|함|돼|됩니다|돼요)\\b\")\n",
    "def _join_negation(s: str) -> str:\n",
    "    return RE_NEG.sub(lambda m: m.group(1)+m.group(2), s)\n",
    "\n",
    "# 띄어쓰기로 분리되어 있으면 별개 단어로 들어가있음\n",
    "# 부정 의미라는 사실을 놓치게 됨"
   ],
   "id": "e41d40d73d50c17a",
   "outputs": [],
   "execution_count": 8
  },
  {
   "metadata": {
    "ExecuteTime": {
     "end_time": "2025-09-29T07:03:16.901763Z",
     "start_time": "2025-09-29T07:03:16.897567Z"
    }
   },
   "cell_type": "code",
   "source": [
    "def korean_normalize(text: str, join_neg: bool = True) -> str: #join_neg=True이면 \"안 하다\" → \"안하다\" 같은 부정 결합 수행\n",
    "    if not isinstance(text, str):\n",
    "        return \"\" #문자열이 아니면 빈 문자열로 전환\n",
    "    # 1) 유니코드 표준화\n",
    "    text = unicodedata.normalize(\"NFKC\", text)\n",
    "    # 2) HTML 제거\n",
    "    text = RE_HTML.sub(\" \", text)\n",
    "    # 3) URL/EMAIL/PHONE 치환 (숫자보다 먼저)\n",
    "    text = RE_URL.sub(\" <URL> \", text)\n",
    "    text = RE_EMAIL.sub(\" <EMAIL> \", text)\n",
    "    text = RE_PHONE.sub(\" <PHONE> \", text)\n",
    "    # 4) 숫자 치환\n",
    "    text = RE_NUM.sub(\" <NUM> \", text)\n",
    "    # 5) 감정표현 반복 축약\n",
    "    text = _compress_feel(text)\n",
    "    # 6) (선택) 부정 결합\n",
    "    if join_neg:\n",
    "        text = _join_negation(text)\n",
    "    # 7) 허용 문자 외 공백 치환 → 다중 공백 축소\n",
    "    text = ALLOWED_CHARS.sub(\" \", text)\n",
    "    text = re.sub(r\"\\s{2,}\", \" \", text).strip()\n",
    "    return text"
   ],
   "id": "cae9a83eba9c974e",
   "outputs": [],
   "execution_count": 9
  },
  {
   "metadata": {
    "ExecuteTime": {
     "end_time": "2025-09-29T07:03:23.255973Z",
     "start_time": "2025-09-29T07:03:23.252752Z"
    }
   },
   "cell_type": "code",
   "source": [
    "# 적용 함수 (전처리 이후 추가 필터)\n",
    "def apply_normalize(df, col=\"document\", join_neg=True, min_len=2):\n",
    "    df = df.copy() #전처리할 데이터프레임\n",
    "    # 만약 이전 단계에서 'nan' 문자열이 살아있다면 제거\n",
    "    df = df[df[col].astype(str).str.lower() != \"nan\"]\n",
    "    df[col] = df[col].apply(lambda x: korean_normalize(x, join_neg=join_neg))\n",
    "    df = df[df[col].str.len() >= min_len]\n",
    "    return df\n"
   ],
   "id": "8dd8ef29cdeaa4ec",
   "outputs": [],
   "execution_count": 10
  },
  {
   "metadata": {},
   "cell_type": "markdown",
   "source": "#### 2. 정규화 실행",
   "id": "d613bb1df0bba2b6"
  },
  {
   "metadata": {
    "ExecuteTime": {
     "end_time": "2025-09-29T07:03:27.979835Z",
     "start_time": "2025-09-29T07:03:25.881788Z"
    }
   },
   "cell_type": "code",
   "source": [
    "train_norm = apply_normalize(train, col=\"document\", join_neg=True)\n",
    "test_norm = apply_normalize(test, col=\"document\", join_neg=True)\n",
    "print(\"After normalize:\", train_norm.shape, test_norm.shape)\n",
    "print(train_norm.head(3))"
   ],
   "id": "de9f94615a5a4ec0",
   "outputs": [
    {
     "name": "stdout",
     "output_type": "stream",
     "text": [
      "After normalize: (145891, 3) (49008, 3)\n",
      "         id                           document  label\n",
      "0   9976970                아 더빙.. 진짜 짜증나네요 목소리      0\n",
      "1   3819312  흠...포스터보고 초딩영화줄....오버연기조차 가볍지 않구나      1\n",
      "2  10265843                  너무재밓었다그래서보는것을추천한다      0\n"
     ]
    }
   ],
   "execution_count": 11
  },
  {
   "metadata": {},
   "cell_type": "markdown",
   "source": "#### 3. 토큰화 + 불용어 제거",
   "id": "34b727efab9bdce2"
  },
  {
   "metadata": {
    "ExecuteTime": {
     "end_time": "2025-09-29T07:03:28.025848Z",
     "start_time": "2025-09-29T07:03:28.021559Z"
    }
   },
   "cell_type": "code",
   "source": "import re",
   "id": "166929a5f95de707",
   "outputs": [],
   "execution_count": 12
  },
  {
   "metadata": {
    "ExecuteTime": {
     "end_time": "2025-09-29T07:03:28.056914Z",
     "start_time": "2025-09-29T07:03:28.052956Z"
    }
   },
   "cell_type": "code",
   "source": [
    "# 간단 불용어 예시(필요시 확장)\n",
    "stopwords = set(\"\"\"\n",
    "이 그 저 데 을 를 은 는 이 가 에 의 와 과 도 으로 로 에서 까지 보다 보다도 그리고 그러나 하지만\n",
    "한다 했다 하다 해요 해서 하면 했고 할 할까 랑 와요 네요 요 는군 다가 라도 라서 면서 라니\n",
    "\"\"\".split())"
   ],
   "id": "7fe113eb6752e8cc",
   "outputs": [],
   "execution_count": 13
  },
  {
   "metadata": {
    "ExecuteTime": {
     "end_time": "2025-09-29T07:03:29.332144Z",
     "start_time": "2025-09-29T07:03:29.328107Z"
    }
   },
   "cell_type": "code",
   "source": [
    "# 백업 토크나이저: 공백 분리 후, 허용 패턴 토큰만 남김\n",
    "TOKEN_RE = re.compile(r\"[가-힣A-Za-z0-9<>]+\") #허용 패턴 토큰\n",
    "def simple_tokenize(text: str):\n",
    "    return [t for t in TOKEN_RE.findall(text)]"
   ],
   "id": "71266a339fdaabc0",
   "outputs": [],
   "execution_count": 14
  },
  {
   "metadata": {
    "ExecuteTime": {
     "end_time": "2025-09-29T07:03:32.119646Z",
     "start_time": "2025-09-29T07:03:31.666753Z"
    }
   },
   "cell_type": "code",
   "source": [
    "# 가능한 경우 Okt 사용\n",
    "try:\n",
    "    from konlpy.tag import Okt\n",
    "    okt = Okt() # konlpy 라이브러리 안의 Okt 형태소 분석기 불러옴\n",
    "    def tokenize_ko(text: str):\n",
    "        # 형태소 단위 토큰화 + 불용어 제거\n",
    "        # 문장을 형태소 단위로 나눔, stem=True면 동사/형용사를 기본형으로 변환\n",
    "        toks = okt.morphs(text, stem=True)  # 어간추출 (선호에 따라 False)\n",
    "        # 불용어제거 + 너무 짧은 토큰 제거\n",
    "        return [t for t in toks if t not in stopwords and len(t) > 1 or t.startswith(\"<\")] # 특수 토큰 유지\n",
    "    print(\"Using KoNLPy Okt tokenizer.\") #Okt 사용가능하다는 메세지 출력\n",
    "except Exception as e:\n",
    "    def tokenize_ko(text: str):\n",
    "        toks = simple_tokenize(text)\n",
    "        return [t for t in toks if t not in stopwords and (len(t) > 1 or t.startswith(\"<\"))]\n",
    "    print(\"Falling back to simple tokenizer.\", e)"
   ],
   "id": "501c1f799f2263db",
   "outputs": [
    {
     "name": "stdout",
     "output_type": "stream",
     "text": [
      "Using KoNLPy Okt tokenizer.\n"
     ]
    }
   ],
   "execution_count": 15
  },
  {
   "metadata": {},
   "cell_type": "markdown",
   "source": [
    "#### 4. TF-IDF 벡터화\n",
    "\n",
    "- 이미 tokens 리스트가 있으므로, Vectorizer에 'identity' 토크나이저를 써서 리스트 그대로 넣음"
   ],
   "id": "18b67013e938d0d4"
  },
  {
   "metadata": {
    "ExecuteTime": {
     "end_time": "2025-09-29T07:05:27.718911Z",
     "start_time": "2025-09-29T07:05:27.698347Z"
    }
   },
   "cell_type": "code",
   "source": "from sklearn.feature_extraction.text import TfidfVectorizer",
   "id": "e62c56a2e03d5140",
   "outputs": [],
   "execution_count": 18
  },
  {
   "metadata": {
    "ExecuteTime": {
     "end_time": "2025-09-29T07:05:28.304255Z",
     "start_time": "2025-09-29T07:05:28.299509Z"
    }
   },
   "cell_type": "code",
   "source": [
    "# 한국어도 잡히도록 token_pattern만 약간 완화 (1글자 토큰 허용하려면 \\w+)\n",
    "vectorizer = TfidfVectorizer(\n",
    "    token_pattern=r\"(?u)\\b\\w+\\b\",   # 유니코드 단어 문자 토큰화 (한글 포함)\n",
    "    ngram_range=(1,2),\n",
    "    min_df=3, max_df=0.98, max_features=40000,\n",
    "    lowercase=False,\n",
    "    stop_words=None  # 원하면 한국어 불용어 리스트를 직접 넣을 수 있음\n",
    ")"
   ],
   "id": "7c615e58fd68f98a",
   "outputs": [],
   "execution_count": 19
  },
  {
   "metadata": {
    "ExecuteTime": {
     "end_time": "2025-09-29T07:05:41.079316Z",
     "start_time": "2025-09-29T07:05:33.517348Z"
    }
   },
   "cell_type": "code",
   "source": [
    "X_train = vectorizer.fit_transform(train_norm[\"document\"])\n",
    "X_test  = vectorizer.transform(test_norm[\"document\"])\n",
    "\n",
    "y_train = train_norm[\"label\"].astype(int)\n",
    "y_test  = test_norm[\"label\"].astype(int)"
   ],
   "id": "fd037e35301c24c6",
   "outputs": [],
   "execution_count": 20
  },
  {
   "metadata": {},
   "cell_type": "markdown",
   "source": [
    "#### 5. 모델 학습 및 평가\n",
    "- 로지스틱 회귀 (선형, 빠르고 강력한 베이스 라인)\n",
    "- 나이브 베이즈(멀티노미얼) 비교\n",
    "- 성능 지표 : Accuracy"
   ],
   "id": "58198542f8f89789"
  },
  {
   "metadata": {
    "ExecuteTime": {
     "end_time": "2025-09-29T07:06:00.538744Z",
     "start_time": "2025-09-29T07:05:59.849543Z"
    }
   },
   "cell_type": "code",
   "source": [
    "from sklearn.linear_model import LogisticRegression\n",
    "from sklearn.naive_bayes import MultinomialNB\n",
    "from sklearn.metrics import accuracy_score, f1_score, classification_report, confusion_matrix"
   ],
   "id": "63f34f597789ae1e",
   "outputs": [],
   "execution_count": 21
  },
  {
   "metadata": {},
   "cell_type": "markdown",
   "source": [
    "#### evaluate_model 함수\n",
    "- fit : 훈련 데이터로 파라미터 (가중치) 학습\n",
    "- predict : 테스트 데이터의 레이블 (0=부정, 1=긍정) 예측\n",
    "- accuracy : 전체 중 맞춘 비율\n",
    "- f1 : 불균형일 때 유용\n",
    "- classification_report : 클래스별 precision/recall/f1, macro/weighted 평균까지\n",
    "- confusion_matrix:\n",
    "\n",
    "[[TN, FP],\n",
    "\n",
    " [FN, TP]]"
   ],
   "id": "c4eca94f660807cf"
  },
  {
   "metadata": {
    "ExecuteTime": {
     "end_time": "2025-09-29T07:06:07.590633Z",
     "start_time": "2025-09-29T07:06:07.586908Z"
    }
   },
   "cell_type": "code",
   "source": [
    "def evaluate_model(name, model, Xtr, ytr, Xte, yte):\n",
    "    model.fit(Xtr, ytr) #훈련 학습\n",
    "    pred = model.predict(Xte) # 예측 : 0인지 1인지\n",
    "    acc = accuracy_score(yte, pred) # 정확도\n",
    "    f1  = f1_score(yte, pred) # F1 = 정밀도/재현율의 조화평균\n",
    "    print(f\"[{name}]  Acc={acc:.4f}  F1={f1:.4f}\")\n",
    "    print(classification_report(yte, pred, digits=4)) # precision/recall/F1 by class\n",
    "    print(\"Confusion:\\n\", confusion_matrix(yte, pred)) #혼동행렬\n",
    "    return model"
   ],
   "id": "17eec69702b47af6",
   "outputs": [],
   "execution_count": 22
  },
  {
   "metadata": {},
   "cell_type": "markdown",
   "source": [
    "#### 로지스틱 회귀\n",
    "- 선형 분류기 -> 각 단어에 가중치 w를 학습해서 시그모이드로 확률을 생성\n",
    "- 하이퍼파라미터\n",
    "    - C : 규제강도의 역수 -> 클수록 규제약함, 과적합 느낌 나면 C 줄이기\n",
    "    - solver : 최적화 방법\n",
    "        - liblinear : 소규모 / 희소에 안정적 (이진분류)\n",
    "        - saga : 대규모 / 다중클래스\n",
    "    - max_iter : 수렴할 때까지 반복 허용 횟수 -> 경고뜨면 늘리기\n",
    "- 장점 : TF-IDF와 궁합이 좋고, 빠르며 해석이 쉬움\n",
    "- 확률이 필요하면 logreg.predict_proba(X_test)[:,1] 로 긍정 확률 추출 가능 → 임계값 0.5 조정도 가능."
   ],
   "id": "2ab86c27f774d835"
  },
  {
   "metadata": {
    "ExecuteTime": {
     "end_time": "2025-09-29T07:06:14.438662Z",
     "start_time": "2025-09-29T07:06:14.433822Z"
    }
   },
   "cell_type": "code",
   "source": [
    "# 로지스틱 회귀\n",
    "logreg = LogisticRegression(\n",
    "    max_iter=1000,\n",
    "    C=2.0,\n",
    "    solver=\"liblinear\"  # 데이터/특징 따라 'saga'도 가능\n",
    ")"
   ],
   "id": "ca5bb9188e3eea8",
   "outputs": [],
   "execution_count": 23
  },
  {
   "metadata": {
    "ExecuteTime": {
     "end_time": "2025-09-29T07:06:19.128482Z",
     "start_time": "2025-09-29T07:06:17.890052Z"
    }
   },
   "cell_type": "code",
   "source": "logreg = evaluate_model(\"LogReg\", logreg, X_train, y_train, X_test, y_test)\n",
   "id": "10d70ac473de5f48",
   "outputs": [
    {
     "name": "stdout",
     "output_type": "stream",
     "text": [
      "[LogReg]  Acc=0.8167  F1=0.8106\n",
      "              precision    recall  f1-score   support\n",
      "\n",
      "           0     0.7935    0.8536    0.8224     24370\n",
      "           1     0.8435    0.7802    0.8106     24638\n",
      "\n",
      "    accuracy                         0.8167     49008\n",
      "   macro avg     0.8185    0.8169    0.8165     49008\n",
      "weighted avg     0.8186    0.8167    0.8165     49008\n",
      "\n",
      "Confusion:\n",
      " [[20803  3567]\n",
      " [ 5415 19223]]\n"
     ]
    }
   ],
   "execution_count": 24
  },
  {
   "metadata": {},
   "cell_type": "markdown",
   "source": [
    "#### 멀티노미얼 나이브 베이즈\n",
    "- 단어 발생 분포 가정 (조건부 독립 가정) 기반의 고전 텍스트 분류기\n",
    "- 하이퍼파라미터\n",
    "    - alpha : 라플라스/리질레이스 평활화 -> 작으면 데이터에 민감함 (0.1~1 사이 탐색 추천)\n",
    "- 특징 : Count 기반에 특히 잘 맞고 TF-IDF도 자주 사용함"
   ],
   "id": "35bb1718c0cfeb17"
  },
  {
   "metadata": {
    "ExecuteTime": {
     "end_time": "2025-09-29T07:06:27.709429Z",
     "start_time": "2025-09-29T07:06:27.654878Z"
    }
   },
   "cell_type": "code",
   "source": [
    "# 나이브 베이즈\n",
    "nb = MultinomialNB(alpha=0.5)\n",
    "nb = evaluate_model(\"MultinomialNB\", nb, X_train, y_train, X_test, y_test)"
   ],
   "id": "d851e2457a1eda8d",
   "outputs": [
    {
     "name": "stdout",
     "output_type": "stream",
     "text": [
      "[MultinomialNB]  Acc=0.8216  F1=0.8159\n",
      "              precision    recall  f1-score   support\n",
      "\n",
      "           0     0.7986    0.8576    0.8271     24370\n",
      "           1     0.8481    0.7861    0.8159     24638\n",
      "\n",
      "    accuracy                         0.8216     49008\n",
      "   macro avg     0.8233    0.8218    0.8215     49008\n",
      "weighted avg     0.8235    0.8216    0.8214     49008\n",
      "\n",
      "Confusion:\n",
      " [[20900  3470]\n",
      " [ 5271 19367]]\n"
     ]
    }
   ],
   "execution_count": 25
  },
  {
   "metadata": {},
   "cell_type": "markdown",
   "source": [
    "#### 6. 해석\n",
    "\n",
    "####  가중치로 상위 특징 확인 (로지스틱 회귀 기준)\n",
    "\n",
    "- 각 피처에 대해서 가중치가 있어서 이걸 양수와 음수 기준으로 정렬하면 긍정에 기여하는 단어와 부정에 기여하는 단어를 직접 뽑을 수 있음"
   ],
   "id": "3ee0c6211c1976cd"
  },
  {
   "metadata": {
    "ExecuteTime": {
     "end_time": "2025-09-29T07:07:21.625865Z",
     "start_time": "2025-09-29T07:07:21.621762Z"
    }
   },
   "cell_type": "code",
   "source": "import numpy as np",
   "id": "dc9f77a5c5370c3",
   "outputs": [],
   "execution_count": 26
  },
  {
   "metadata": {
    "ExecuteTime": {
     "end_time": "2025-09-29T07:24:12.525589Z",
     "start_time": "2025-09-29T07:24:12.491835Z"
    }
   },
   "cell_type": "code",
   "source": [
    "# TfidVectorizer가 만든 단어 (ngram)리스트를 가져옴\n",
    "feat_names = np.array(vectorizer.get_feature_names_out())\n",
    "# 로지스틱 회귀는 각 단어마다 가중치 학습\n",
    "coefs = logreg.coef_[0]"
   ],
   "id": "12a3353a88dfd340",
   "outputs": [],
   "execution_count": 31
  },
  {
   "metadata": {
    "ExecuteTime": {
     "end_time": "2025-09-29T07:24:20.947967Z",
     "start_time": "2025-09-29T07:24:20.940002Z"
    }
   },
   "cell_type": "code",
   "source": "feat_names",
   "id": "abb2d1fa7afd555c",
   "outputs": [
    {
     "data": {
      "text/plain": [
       "array(['0', '007시리즈', '007을', ..., '힘입어', '힛걸', '힝'],\n",
       "      shape=(40000,), dtype=object)"
      ]
     },
     "execution_count": 32,
     "metadata": {},
     "output_type": "execute_result"
    }
   ],
   "execution_count": 32
  },
  {
   "metadata": {
    "ExecuteTime": {
     "end_time": "2025-09-29T07:24:30.802785Z",
     "start_time": "2025-09-29T07:24:30.797187Z"
    }
   },
   "cell_type": "code",
   "source": "coefs",
   "id": "aa56adb38374f4c6",
   "outputs": [
    {
     "data": {
      "text/plain": [
       "array([ 0.77835242,  0.01245015, -0.10333297, ..., -0.76420947,\n",
       "        1.27581431, -0.56253127], shape=(40000,))"
      ]
     },
     "execution_count": 33,
     "metadata": {},
     "output_type": "execute_result"
    }
   ],
   "execution_count": 33
  },
  {
   "metadata": {
    "ExecuteTime": {
     "end_time": "2025-09-29T07:07:32.312211Z",
     "start_time": "2025-09-29T07:07:32.303300Z"
    }
   },
   "cell_type": "code",
   "source": [
    "top_pos_idx = np.argsort(coefs)[-20:][::-1]  # 긍정 가중치 큰 토큰\n",
    "top_neg_idx = np.argsort(coefs)[:20]         # 부정 가중치 큰 토큰"
   ],
   "id": "222274c55846100b",
   "outputs": [],
   "execution_count": 28
  },
  {
   "metadata": {
    "ExecuteTime": {
     "end_time": "2025-09-29T07:07:36.099290Z",
     "start_time": "2025-09-29T07:07:36.093672Z"
    }
   },
   "cell_type": "code",
   "source": [
    "print(\"[Top positive tokens]\")\n",
    "for i in top_pos_idx:\n",
    "    print(f\"{feat_names[i]:<20s} {coefs[i]:.4f}\")\n"
   ],
   "id": "551f9838494fd5b4",
   "outputs": [
    {
     "name": "stdout",
     "output_type": "stream",
     "text": [
      "[Top positive tokens]\n",
      "여운이                  6.9164\n",
      "최고의                  6.3412\n",
      "최고다                  6.3281\n",
      "최고                   6.1974\n",
      "수작                   5.7928\n",
      "재밌음                  5.5921\n",
      "명작                   5.3797\n",
      "재밌다                  5.3625\n",
      "좋고                   5.3490\n",
      "재미있어요                5.1519\n",
      "가슴이                  5.1178\n",
      "좋았어요                 5.0849\n",
      "재밌어요                 5.0768\n",
      "재밌네요                 5.0390\n",
      "짱                    4.9794\n",
      "굿                    4.8958\n",
      "감동                   4.8727\n",
      "꿀잼                   4.8460\n",
      "10점준다                4.8142\n",
      "명작이다                 4.6974\n"
     ]
    }
   ],
   "execution_count": 29
  },
  {
   "metadata": {
    "ExecuteTime": {
     "end_time": "2025-09-29T07:07:39.976909Z",
     "start_time": "2025-09-29T07:07:39.972038Z"
    }
   },
   "cell_type": "code",
   "source": [
    "print(\"\\n[Top negative tokens]\")\n",
    "for i in top_neg_idx:\n",
    "    print(f\"{feat_names[i]:<20s} {coefs[i]:.4f}\")"
   ],
   "id": "7b47e86c1b02534e",
   "outputs": [
    {
     "name": "stdout",
     "output_type": "stream",
     "text": [
      "\n",
      "[Top negative tokens]\n",
      "최악의                  -9.3668\n",
      "최악                   -7.8625\n",
      "아깝다                  -7.1537\n",
      "졸작                   -6.5341\n",
      "쓰레기                  -6.4617\n",
      "차라리                  -6.4269\n",
      "쓰레기영화                -6.2812\n",
      "지루하다                 -6.2383\n",
      "재미없다                 -6.0430\n",
      "최악이다                 -5.9565\n",
      "1점도                  -5.8677\n",
      "지루함                  -5.3797\n",
      "노잼                   -5.3707\n",
      "별로                   -5.3665\n",
      "지루하고                 -5.2770\n",
      "재미없는                 -5.1388\n",
      "별로다                  -4.9514\n",
      "망작                   -4.9459\n",
      "재미없어                 -4.8964\n",
      "실망                   -4.8139\n"
     ]
    }
   ],
   "execution_count": 30
  },
  {
   "metadata": {},
   "cell_type": "markdown",
   "source": [
    "#### 가중치로 상위 특징 확인 (나이브 베이즈 기준)\n",
    "- 로지스틱처럼 계수 벡터를 갖는건 아니지만 각 클래스별 단어 조건부 확률을 가지고 있음\n",
    "- 모델 내부 변수:\n",
    "    - nb.feature_log_prob -> shape = (클래스 개수, 단어 개수)\n",
    "    - 각 행이 클래스, 각 열이 단어\n",
    "    - 값은 로그 확률 log P(word | class)"
   ],
   "id": "a521e2c077d9b104"
  },
  {
   "metadata": {
    "ExecuteTime": {
     "end_time": "2025-09-29T07:26:13.599951Z",
     "start_time": "2025-09-29T07:26:13.567662Z"
    }
   },
   "cell_type": "code",
   "source": [
    "import numpy as np\n",
    "\n",
    "# 피처 이름 (단어 리스트)\n",
    "feat_names = np.array(vectorizer.get_feature_names_out())\n",
    "\n",
    "# 각 클래스별 log 확률\n",
    "log_prob = nb.feature_log_prob_"
   ],
   "id": "d84ed11657e98c0a",
   "outputs": [],
   "execution_count": 34
  },
  {
   "metadata": {
    "ExecuteTime": {
     "end_time": "2025-09-29T07:29:04.857406Z",
     "start_time": "2025-09-29T07:29:04.847618Z"
    }
   },
   "cell_type": "code",
   "source": [
    "# 긍정 클래스(1) 상위 20개 단어\n",
    "top_pos_idx = np.argsort(log_prob[1])[-20:][::-1]\n",
    "print(\"[Top positive tokens - NB]\")\n",
    "for i in top_pos_idx:\n",
    "    print(f\"{feat_names[i]:<20s} {log_prob[1][i]:.4f}\")"
   ],
   "id": "ca6018fc6a91136b",
   "outputs": [
    {
     "name": "stdout",
     "output_type": "stream",
     "text": [
      "[Top positive tokens - NB]\n",
      "영화                   -4.8272\n",
      "정말                   -5.1849\n",
      "너무                   -5.4522\n",
      "진짜                   -5.5811\n",
      "최고의                  -5.8783\n",
      "이                    -5.9120\n",
      "최고                   -5.9481\n",
      "잘                    -6.1718\n",
      "역시                   -6.2142\n",
      "더                    -6.2639\n",
      "수                    -6.3077\n",
      "드라마                  -6.3211\n",
      "보고                   -6.3257\n",
      "NUM                  -6.4087\n",
      "재밌게                  -6.4176\n",
      "완전                   -6.4517\n",
      "이런                   -6.4570\n",
      "좋은                   -6.4609\n",
      "본                    -6.4638\n",
      "다시                   -6.4773\n"
     ]
    }
   ],
   "execution_count": 38
  },
  {
   "metadata": {
    "ExecuteTime": {
     "end_time": "2025-09-29T07:29:07.031947Z",
     "start_time": "2025-09-29T07:29:07.021176Z"
    }
   },
   "cell_type": "code",
   "source": [
    "# 부정 클래스(0) 상위 20개 단어\n",
    "top_neg_idx = np.argsort(log_prob[0])[-20:][::-1]\n",
    "print(\"\\n[Top negative tokens - NB]\")\n",
    "for i in top_neg_idx:\n",
    "    print(f\"{feat_names[i]:<20s} {log_prob[0][i]:.4f}\")"
   ],
   "id": "75b6794aa84dd334",
   "outputs": [
    {
     "name": "stdout",
     "output_type": "stream",
     "text": [
      "\n",
      "[Top negative tokens - NB]\n",
      "영화                   -4.9539\n",
      "너무                   -5.5298\n",
      "진짜                   -5.5433\n",
      "그냥                   -5.6839\n",
      "정말                   -5.8427\n",
      "왜                    -5.8605\n",
      "이                    -6.0394\n",
      "NUM                  -6.0734\n",
      "이런                   -6.0762\n",
      "쓰레기                  -6.0885\n",
      "이건                   -6.1143\n",
      "이게                   -6.1704\n",
      "좀                    -6.1804\n",
      "아                    -6.1830\n",
      "아깝다                  -6.2753\n",
      "없다                   -6.2839\n",
      "다                    -6.3090\n",
      "영화는                  -6.3790\n",
      "더                    -6.3954\n",
      "이거                   -6.4191\n"
     ]
    }
   ],
   "execution_count": 39
  },
  {
   "metadata": {},
   "cell_type": "markdown",
   "source": "# 왜 로지스틱이 더 잘 맞을까?",
   "id": "1f12075bfe1f9cfa"
  },
  {
   "metadata": {},
   "cell_type": "markdown",
   "source": [
    "## 1. 가정의 차이\n",
    "\n",
    "#### 나이브 베이즈\n",
    "- 모든 단어가 조건부 독립이라고 가정함\n",
    "- 즉, '너무'와 '재밌다'가 같이 나오든, '진짜'와 '최악'이 같이 나오든 상관없이 단어 확률을 곱함\n",
    "- 현실의 언어는 단어들이 강하게 의존적이라서 이 가정이 자주 깨짐 -> 성능의 한계\n",
    "\n",
    "#### 로지스틱 회귀\n",
    "- 독립 가정을 두지 않고 단어별로 가중치를 학습함\n",
    "- '너무'가 '재밌다'랑 같이 나왔을 때 긍정으로 기울어지도록, '재밌다'에 강한 양수 계수, '최악'에는 강한 음수 계수를 줌 -> 더 유연하고 현실에 잘 맞음"
   ],
   "id": "5441d85248337519"
  },
  {
   "metadata": {},
   "cell_type": "markdown",
   "source": [
    "## 2. TF-IDF와의 궁합\n",
    "\n",
    "- 나이브 베이즈는 원래 단어 count에 더 잘 맞음 (단순하게 단어가 몇 번 나왔는지)\n",
    "- TF-IDF처럼 가중치가 들어간 피처에서는 나이브 베이즈의 수학적 가정이 깨져서 성능이 떨어질 수 있음\n",
    "- 로지스틱은 TF-IDF와 궁합이 좋음 (희소 행렬에 잘 작동하고, L2 정규화로 과적합 방지)\n"
   ],
   "id": "474dfcaa459bf1e6"
  },
  {
   "metadata": {},
   "cell_type": "markdown",
   "source": [
    "## 3. 해석가능성\n",
    "- 로지스틱은 coef_로 \"긍정/부정에 얼마나 기여했는지\"를 직관적으로 해석할 수 있음\n",
    "- 나이브 베이즈는 확률 분포 기반이라 \"이 클래스에서 많이 나오는 단어\"정도밖에 안 보여줌\n",
    "- 인사이트를 뽑기에도 로지스틱이 유리함"
   ],
   "id": "8167bce0d7cd24f1"
  },
  {
   "metadata": {},
   "cell_type": "markdown",
   "source": [
    "# TF-IDF\n",
    "\n",
    "### 1) 정의\n",
    "- 문서에서 중요한 단어에 더 큰 가중치를 주는 표현 방식\n",
    "- TF : 문서 안에서 많이 나온 단어일수록 중요성 증가\n",
    "- IDF : 여러 문서에 널리 퍼진 공통 단어는 정보력 하락 = 가중치 하락\n",
    "- 자주 나오지만 모든 문서에서 흔하지 않은 단어가 큰 값을 받음"
   ],
   "id": "70f1be2ae5785114"
  },
  {
   "metadata": {},
   "cell_type": "markdown",
   "source": [
    "### 2) 기본 수식\n",
    "\n",
    "![image.png](attachment:13606f21-a95c-4486-bde7-16b7110fc187.png)\n",
    "\n",
    "- 보통 문서 벡터 단위 L2정규화를 함 -> 각 문서 벡터 길이를 1로 맞춤\n",
    "- 이렇게 하면 문서 길이 차이 (짧은 /긴 리뷰)에 덜 민감해지고 , 코사인 유사도/선형 모델에 잘 맞음"
   ],
   "id": "83da76d5d979e27b",
   "attachments": {
    "13606f21-a95c-4486-bde7-16b7110fc187.png": {
     "image/png": "[encoded data removed]"
    }
   }
  },
  {
   "metadata": {},
   "cell_type": "markdown",
   "source": [
    "### 3) 손계산 미니 예시 (자연로그 기준)\n",
    "\n",
    "#### 작은 코퍼스 3문서\n",
    "- D1 : \"영화 최고\"\n",
    "- D2 : \"영화 별로\"\n",
    "- D3 : \"최고 최고 영화\"\n",
    "- 단어 : 영화, 최고 , 별로\n",
    "- 문서수 N = 3\n",
    "\n",
    "#### 문서 빈도 df:\n",
    "- df(영화) = 3 (세 문서 모두)\n",
    "- df(최고) = 2 (D1, D3)\n",
    "- df(별로) = 1 (D2)\n",
    "\n",
    "#### IDF (스무딩 사용)\n",
    "![image.png](attachment:be9d75ad-ecc2-4510-bc80-124b8d150ac3.png)\n",
    "- 영화 : log(4/4) + 1 = log1 + 1 = 1.00\n",
    "- 최고 : log(4/3) + 1 = 1.288\n",
    "- 별로 : log(4/2) + 1 = 1.693\n",
    "\n",
    "#### TF\n",
    "- D1 : 영화 1, 최고 1\n",
    "- D2 : 영화 1, 별로 1\n",
    "- D3 : 영화 1, 최고 2\n",
    "\n",
    "#### TF-IDF (정규화 전)\n",
    "- D1 : [영화 1.000, 최고 .1288, 별로 0]\n",
    "- D2 : [영화 1.000, 최고 0, 별로 1.693]\n",
    "- D3 : [영화 1.000, 최고 2*1.288, 별로 0]\n",
    "\n",
    "#### L2 정규화 (각 문서 벡터 길이로 나눔 = 근삿값)\n",
    "![image.png](attachment:28602305-2c62-445c-8dd7-7072ad75122a.png)\n",
    "\n",
    "> 문서별 실제 계산 : 각 단어 값 / norm\n",
    "- D1 벡터 norm = 약 1.632 -> [영화 0.613, 최고 0.79]\n",
    "- D2 벡터 norm = 약 1.967 -> [영화 0.509, 별로 0.861]\n",
    "- D3 벡터 norm = 약 2.763 -> [영화 0.362, 별로 0.932]\n",
    "\n",
    "해석\n",
    "- \"영화\"는 모든 문서에 흔해서 IDF가 1로 낮음 -> 가중치가 작음\n",
    "- \"별로\"는 한 문서에서만 등장함 ->IDF가 크고 D2에서 비중이 큼\n",
    "- \"최고\"는 두 문서에서 등장하지만 반복과 IDF 덕에 D3에서 비중이 큼\n",
    "- 정규화 덕분에 긴 문서가 무조건 유리해지지 않음"
   ],
   "id": "50a959f251df137b",
   "attachments": {
    "be9d75ad-ecc2-4510-bc80-124b8d150ac3.png": {
     "image/png": "[encoded data removed]"
    },
    "28602305-2c62-445c-8dd7-7072ad75122a.png": {
     "image/png": "[encoded data removed]"
    }
   }
  },
  {
   "metadata": {},
   "cell_type": "code",
   "outputs": [],
   "execution_count": null,
   "source": "",
   "id": "b29119651891008e"
  }
 ],
 "metadata": {
  "kernelspec": {
   "display_name": "Python 3",
   "language": "python",
   "name": "python3"
  },
  "language_info": {
   "codemirror_mode": {
    "name": "ipython",
    "version": 2
   },
   "file_extension": ".py",
   "mimetype": "text/x-python",
   "name": "python",
   "nbconvert_exporter": "python",
   "pygments_lexer": "ipython2",
   "version": "2.7.6"
  }
 },
 "nbformat": 4,
 "nbformat_minor": 5
}
